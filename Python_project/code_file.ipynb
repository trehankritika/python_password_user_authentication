{
 "cells": [
  {
   "cell_type": "code",
   "execution_count": 6,
   "metadata": {},
   "outputs": [],
   "source": [
    "def check_file_data():\n",
    "    with open(\"C:\\\\Users\\\\Kritika\\\\Python_project\\\\Files\\\\name.txt\", \"r\") as f1:        \n",
    "        if f1.read() == \" \":\n",
    "            user_info()\n",
    "        else:\n",
    "            print(\"Files already contain data\")\n",
    "            main()\n",
    "        \n",
    "    "
   ]
  },
  {
   "cell_type": "code",
   "execution_count": 7,
   "metadata": {},
   "outputs": [],
   "source": [
    "def user_info():\n",
    "            name = input(\"Enter your Name : \")\n",
    "            f1 = open(\"C:\\\\Users\\\\Kritika\\\\Python_project\\\\Files\\\\name.txt\" , \"r+\")\n",
    "            f1.write(name)\n",
    "            email = input(\"Enter your email ID : \")\n",
    "            f2 = open(\"C:\\\\Users\\\\Kritika\\\\Python_project\\\\Files\\\\email.txt\" , \"r+\")\n",
    "            f2.write(email)\n",
    "            password = input(\"Enter your Password : \")\n",
    "            f3 = open(\"C:\\\\Users\\\\Kritika\\\\Python_project\\\\Files\\\\password.txt\" , \"r+\")\n",
    "            f3.write(password)\n",
    "            secure_num = input(\"Enter Secure Number : \")\n",
    "            f4 = open(\"C:\\\\Users\\\\Kritika\\\\Python_project\\\\Files\\\\secure_num.txt\" , \"r+\")\n",
    "            f4.write(secure_num)\n",
    "       "
   ]
  },
  {
   "cell_type": "code",
   "execution_count": 8,
   "metadata": {},
   "outputs": [],
   "source": [
    "def check_password():\n",
    "    print(\"Password Authentication\")\n",
    "    get_pass = input(\"Enter your Password\")\n",
    "    with open(\"C:\\\\Users\\\\Kritika\\\\Python_project\\\\Files\\\\password.txt\") as f2:\n",
    "        if get_pass == '1234' in f2.read():\n",
    "            with open(\"C:\\\\Users\\\\Kritika\\\\Python_project\\\\Files\\\\name.txt\" ) as f1:\n",
    "                show = f1.read()\n",
    "                print(\"Welcom\" , show)\n",
    "                main()\n",
    "        else:\n",
    "            print(\"Sorry worng password\")\n",
    "            main()\n",
    "    \n",
    "    #f2 = open(\"C:\\\\Users\\\\Kritika\\\\Python_project\\\\Files\\\\password.txt\" , \"r+\")\n",
    "     #for password in f2\n",
    "      #  if \n",
    "    "
   ]
  },
  {
   "cell_type": "code",
   "execution_count": 9,
   "metadata": {},
   "outputs": [],
   "source": [
    "def change_password():\n",
    "    old_pass = input(\"Enter old password : \")    \n",
    "    with open(\"C:\\\\Users\\\\Kritika\\\\Python_project\\\\Files\\\\password.txt\", \"r\") as f:\n",
    "        old = f.read()        \n",
    "        if old == old_pass:\n",
    "                new_password = input(\"Enter new password : \")\n",
    "                f = open(\"C:\\\\Users\\\\Kritika\\\\Python_project\\\\Files\\\\password.txt\",\"w\")\n",
    "                f.write(new_password)\n",
    "                print(\"Password changed Successfully\")\n",
    "                f.close()\n",
    "                main()\n",
    "        else:\n",
    "            print(\"Invalid Password\")\n",
    "            main()\n",
    "\n",
    "            \n",
    "        "
   ]
  },
  {
   "cell_type": "code",
   "execution_count": 10,
   "metadata": {},
   "outputs": [],
   "source": [
    "def forgot_pass():\n",
    "    email_id = input(\"Enter you email ID : \")\n",
    "    sec = input(\"Enter your Security Number : \")\n",
    "    with open(\"C:\\\\Users\\\\Kritika\\\\Python_project\\\\Files\\\\email.txt\", \"r\") as f1:\n",
    "        with open(\"C:\\\\Users\\\\Kritika\\\\Python_project\\\\Files\\\\secure_num.txt\", \"r\") as f2:\n",
    "            if(email_id == f1.read() and sec == f2.read()):\n",
    "                with open(\"C:\\\\Users\\\\Kritika\\\\Python_project\\\\Files\\\\password.txt\", \"r\") as f:\n",
    "                    show_pass = f.read()\n",
    "                    print(\"Password : \" , show_pass)\n",
    "                    main()\n",
    "    "
   ]
  },
  {
   "cell_type": "code",
   "execution_count": 11,
   "metadata": {},
   "outputs": [],
   "source": [
    "def factory_reset():\n",
    "        os.remove(\"C:\\\\Users\\\\Kritika\\\\Python_project\\\\Files\\\\name.txt\")\n",
    "        os.remove(\"C:\\\\Users\\\\Kritika\\\\Python_project\\\\Files\\\\email.txt\")\n",
    "        os.remove(\"C:\\\\Users\\\\Kritika\\\\Python_project\\\\Files\\\\password.txt\")\n",
    "        os.remove(\"C:\\\\Users\\\\Kritika\\\\Python_project\\\\Files\\\\secure_num.txt\")  \n",
    "        print(\"Files deleted successfully\")\n",
    "        \n"
   ]
  },
  {
   "cell_type": "code",
   "execution_count": 12,
   "metadata": {},
   "outputs": [],
   "source": [
    "def create_files():\n",
    "    dir_name = 'C:\\\\Users\\\\Kritika\\\\Python_project\\\\Files'\n",
    "    if os.listdir(dir_name) == [ ]:\n",
    "        f1 = open(\"C:\\\\Users\\\\Kritika\\\\Python_project\\\\Files\\\\name.txt\" , \"w\")\n",
    "        f2 = open(\"C:\\\\Users\\\\Kritika\\\\Python_project\\\\Files\\\\email.txt\" , \"w\")\n",
    "        f3 = open(\"C:\\\\Users\\\\Kritika\\\\Python_project\\\\Files\\\\password.txt\" , \"w\")\n",
    "        f4 = open(\"C:\\\\Users\\\\Kritika\\\\Python_project\\\\Files\\\\secure_num.txt\" , \"w\")\n",
    "        print(\"Files created successfully\")\n",
    "        user_info()\n",
    "    else:\n",
    "        check_file_data()"
   ]
  },
  {
   "cell_type": "code",
   "execution_count": 13,
   "metadata": {},
   "outputs": [],
   "source": [
    "def main():\n",
    "          \n",
    "        print(\"To enter user infor enter 1 : \") \n",
    "        print(\"For password authentication enter 2 :\")\n",
    "        print(\"To Change Password enter 3\")\n",
    "        print(\"Forgot Password enter 4\")\n",
    "        print(\"Factory Reset enter 5 \")\n",
    "        print(\"For Exit enter 0\")\n",
    "        user = int(input(\"Enter your choice : \"))\n",
    "        if user == 1:\n",
    "            create_files()\n",
    "        if user == 2:\n",
    "            check_password()\n",
    "        if user == 3:\n",
    "            change_password()\n",
    "        if user == 4:\n",
    "            forgot_pass()\n",
    "        if user == 5:\n",
    "            factory_reset()\n",
    "        else:\n",
    "            print(\"Bye\")"
   ]
  },
  {
   "cell_type": "code",
   "execution_count": null,
   "metadata": {},
   "outputs": [
    {
     "name": "stdout",
     "output_type": "stream",
     "text": [
      "To enter user infor enter 1 : \n",
      "For password authentication enter 2 :\n",
      "To Change Password enter 3\n",
      "Forgot Password enter 4\n",
      "Factory Reset enter 5 \n",
      "For Exit enter 0\n",
      "Enter your choice : 1\n",
      "Files already contain data\n",
      "To enter user infor enter 1 : \n",
      "For password authentication enter 2 :\n",
      "To Change Password enter 3\n",
      "Forgot Password enter 4\n",
      "Factory Reset enter 5 \n",
      "For Exit enter 0\n",
      "Enter your choice : 4\n",
      "Enter you email ID : trehan.kritika@gmail.com\n",
      "Enter your Security Number : 3737\n",
      "Password :  1234\n",
      "To enter user infor enter 1 : \n",
      "For password authentication enter 2 :\n",
      "To Change Password enter 3\n",
      "Forgot Password enter 4\n",
      "Factory Reset enter 5 \n",
      "For Exit enter 0\n"
     ]
    }
   ],
   "source": [
    "import os\n",
    "main()"
   ]
  },
  {
   "cell_type": "code",
   "execution_count": null,
   "metadata": {},
   "outputs": [],
   "source": []
  },
  {
   "cell_type": "code",
   "execution_count": null,
   "metadata": {},
   "outputs": [],
   "source": []
  }
 ],
 "metadata": {
  "kernelspec": {
   "display_name": "Python 3",
   "language": "python",
   "name": "python3"
  },
  "language_info": {
   "codemirror_mode": {
    "name": "ipython",
    "version": 3
   },
   "file_extension": ".py",
   "mimetype": "text/x-python",
   "name": "python",
   "nbconvert_exporter": "python",
   "pygments_lexer": "ipython3",
   "version": "3.7.0"
  }
 },
 "nbformat": 4,
 "nbformat_minor": 2
}
